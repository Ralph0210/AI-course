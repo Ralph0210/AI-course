{
  "nbformat": 4,
  "nbformat_minor": 0,
  "metadata": {
    "colab": {
      "name": "Untitled1.ipynb",
      "provenance": [],
      "authorship_tag": "ABX9TyNmcNNuvk9vmpdMR5c09J4e",
      "include_colab_link": true
    },
    "kernelspec": {
      "name": "python3",
      "display_name": "Python 3"
    }
  },
  "cells": [
    {
      "cell_type": "markdown",
      "metadata": {
        "id": "view-in-github",
        "colab_type": "text"
      },
      "source": [
        "<a href=\"https://colab.research.google.com/github/Ralph0210/AI-course/blob/main/Untitled1.ipynb\" target=\"_parent\"><img src=\"https://colab.research.google.com/assets/colab-badge.svg\" alt=\"Open In Colab\"/></a>"
      ]
    },
    {
      "cell_type": "code",
      "metadata": {
        "id": "l6hq8HYuWF5x"
      },
      "source": [
        "import pandas as pd\n",
        "import numpy as np\n",
        "import matplotlib.pyplot as plt"
      ],
      "execution_count": 70,
      "outputs": []
    },
    {
      "cell_type": "code",
      "metadata": {
        "colab": {
          "base_uri": "https://localhost:8080/",
          "height": 142
        },
        "id": "gS8alYK5WKqI",
        "outputId": "6a021f92-6219-4343-d845-b2a846d7bf7f"
      },
      "source": [
        "lis = [1,2.2,3.7785631]\n",
        "df = pd.DataFrame(lis, columns = ['value'])\n",
        "df"
      ],
      "execution_count": 4,
      "outputs": [
        {
          "output_type": "execute_result",
          "data": {
            "text/html": [
              "<div>\n",
              "<style scoped>\n",
              "    .dataframe tbody tr th:only-of-type {\n",
              "        vertical-align: middle;\n",
              "    }\n",
              "\n",
              "    .dataframe tbody tr th {\n",
              "        vertical-align: top;\n",
              "    }\n",
              "\n",
              "    .dataframe thead th {\n",
              "        text-align: right;\n",
              "    }\n",
              "</style>\n",
              "<table border=\"1\" class=\"dataframe\">\n",
              "  <thead>\n",
              "    <tr style=\"text-align: right;\">\n",
              "      <th></th>\n",
              "      <th>value</th>\n",
              "    </tr>\n",
              "  </thead>\n",
              "  <tbody>\n",
              "    <tr>\n",
              "      <th>0</th>\n",
              "      <td>1.000000</td>\n",
              "    </tr>\n",
              "    <tr>\n",
              "      <th>1</th>\n",
              "      <td>2.200000</td>\n",
              "    </tr>\n",
              "    <tr>\n",
              "      <th>2</th>\n",
              "      <td>3.778563</td>\n",
              "    </tr>\n",
              "  </tbody>\n",
              "</table>\n",
              "</div>"
            ],
            "text/plain": [
              "      value\n",
              "0  1.000000\n",
              "1  2.200000\n",
              "2  3.778563"
            ]
          },
          "metadata": {
            "tags": []
          },
          "execution_count": 4
        }
      ]
    },
    {
      "cell_type": "code",
      "metadata": {
        "colab": {
          "base_uri": "https://localhost:8080/"
        },
        "id": "wpcG_e1YWbJH",
        "outputId": "b2e1ccac-54bc-49f9-dc83-581888d5d8a0"
      },
      "source": [
        "df.dtypes"
      ],
      "execution_count": 5,
      "outputs": [
        {
          "output_type": "execute_result",
          "data": {
            "text/plain": [
              "value    float64\n",
              "dtype: object"
            ]
          },
          "metadata": {
            "tags": []
          },
          "execution_count": 5
        }
      ]
    },
    {
      "cell_type": "code",
      "metadata": {
        "colab": {
          "base_uri": "https://localhost:8080/"
        },
        "id": "tEs_jc6HWsIk",
        "outputId": "2b94704c-cd44-4ee4-c91f-5f310e756f51"
      },
      "source": [
        "df.shape"
      ],
      "execution_count": 7,
      "outputs": [
        {
          "output_type": "execute_result",
          "data": {
            "text/plain": [
              "(3, 1)"
            ]
          },
          "metadata": {
            "tags": []
          },
          "execution_count": 7
        }
      ]
    },
    {
      "cell_type": "code",
      "metadata": {
        "colab": {
          "base_uri": "https://localhost:8080/"
        },
        "id": "L3CJgUjxW563",
        "outputId": "318f50e3-fdbd-4699-ada9-264b65ce82c1"
      },
      "source": [
        "df.columns"
      ],
      "execution_count": 8,
      "outputs": [
        {
          "output_type": "execute_result",
          "data": {
            "text/plain": [
              "Index(['value'], dtype='object')"
            ]
          },
          "metadata": {
            "tags": []
          },
          "execution_count": 8
        }
      ]
    },
    {
      "cell_type": "code",
      "metadata": {
        "colab": {
          "base_uri": "https://localhost:8080/",
          "height": 142
        },
        "id": "qhqb9hOhXQyW",
        "outputId": "6c498319-a7df-4490-e26d-7c6fa62c4e3b"
      },
      "source": [
        "df1 = pd.DataFrame({'animal':['alligator', 'bee', 'falcon', 'lion',\n",
        "                              'monkey', 'parrot', 'shark', 'whale', 'zebra']})\n",
        "df1.head(3)"
      ],
      "execution_count": 11,
      "outputs": [
        {
          "output_type": "execute_result",
          "data": {
            "text/html": [
              "<div>\n",
              "<style scoped>\n",
              "    .dataframe tbody tr th:only-of-type {\n",
              "        vertical-align: middle;\n",
              "    }\n",
              "\n",
              "    .dataframe tbody tr th {\n",
              "        vertical-align: top;\n",
              "    }\n",
              "\n",
              "    .dataframe thead th {\n",
              "        text-align: right;\n",
              "    }\n",
              "</style>\n",
              "<table border=\"1\" class=\"dataframe\">\n",
              "  <thead>\n",
              "    <tr style=\"text-align: right;\">\n",
              "      <th></th>\n",
              "      <th>animal</th>\n",
              "    </tr>\n",
              "  </thead>\n",
              "  <tbody>\n",
              "    <tr>\n",
              "      <th>0</th>\n",
              "      <td>alligator</td>\n",
              "    </tr>\n",
              "    <tr>\n",
              "      <th>1</th>\n",
              "      <td>bee</td>\n",
              "    </tr>\n",
              "    <tr>\n",
              "      <th>2</th>\n",
              "      <td>falcon</td>\n",
              "    </tr>\n",
              "  </tbody>\n",
              "</table>\n",
              "</div>"
            ],
            "text/plain": [
              "      animal\n",
              "0  alligator\n",
              "1        bee\n",
              "2     falcon"
            ]
          },
          "metadata": {
            "tags": []
          },
          "execution_count": 11
        }
      ]
    },
    {
      "cell_type": "code",
      "metadata": {
        "colab": {
          "base_uri": "https://localhost:8080/"
        },
        "id": "Xn23YgRpXtvm",
        "outputId": "3f3002fc-b218-465b-f5a3-6dc06c225dba"
      },
      "source": [
        "#fill in blank\n",
        "df2 = pd.DataFrame([[np.nan, 2,np.nan, 0],[1,2,3,4]], columns=list('ABCD'))\n",
        "\n",
        "print(df2)\n",
        "df2.fillna(0, inplace=True)\n",
        "print(df2)"
      ],
      "execution_count": 39,
      "outputs": [
        {
          "output_type": "stream",
          "text": [
            "     A  B    C  D\n",
            "0  NaN  2  NaN  0\n",
            "1  1.0  2  3.0  4\n",
            "     A  B    C  D\n",
            "0  0.0  2  0.0  0\n",
            "1  1.0  2  3.0  4\n"
          ],
          "name": "stdout"
        }
      ]
    },
    {
      "cell_type": "code",
      "metadata": {
        "colab": {
          "base_uri": "https://localhost:8080/",
          "height": 142
        },
        "id": "dwU9l3hbYYPd",
        "outputId": "75a5bf65-520a-4148-8631-88f7b295f57c"
      },
      "source": [
        "df3 = pd.DataFrame(np.array([[1,2,3],[4,5,6],[7,8,9]]),\n",
        "                   columns=list('abc'))\n",
        "df4 = df3.copy()\n",
        "df4"
      ],
      "execution_count": 15,
      "outputs": [
        {
          "output_type": "execute_result",
          "data": {
            "text/html": [
              "<div>\n",
              "<style scoped>\n",
              "    .dataframe tbody tr th:only-of-type {\n",
              "        vertical-align: middle;\n",
              "    }\n",
              "\n",
              "    .dataframe tbody tr th {\n",
              "        vertical-align: top;\n",
              "    }\n",
              "\n",
              "    .dataframe thead th {\n",
              "        text-align: right;\n",
              "    }\n",
              "</style>\n",
              "<table border=\"1\" class=\"dataframe\">\n",
              "  <thead>\n",
              "    <tr style=\"text-align: right;\">\n",
              "      <th></th>\n",
              "      <th>a</th>\n",
              "      <th>b</th>\n",
              "      <th>c</th>\n",
              "    </tr>\n",
              "  </thead>\n",
              "  <tbody>\n",
              "    <tr>\n",
              "      <th>0</th>\n",
              "      <td>1</td>\n",
              "      <td>2</td>\n",
              "      <td>3</td>\n",
              "    </tr>\n",
              "    <tr>\n",
              "      <th>1</th>\n",
              "      <td>4</td>\n",
              "      <td>5</td>\n",
              "      <td>6</td>\n",
              "    </tr>\n",
              "    <tr>\n",
              "      <th>2</th>\n",
              "      <td>7</td>\n",
              "      <td>8</td>\n",
              "      <td>9</td>\n",
              "    </tr>\n",
              "  </tbody>\n",
              "</table>\n",
              "</div>"
            ],
            "text/plain": [
              "   a  b  c\n",
              "0  1  2  3\n",
              "1  4  5  6\n",
              "2  7  8  9"
            ]
          },
          "metadata": {
            "tags": []
          },
          "execution_count": 15
        }
      ]
    },
    {
      "cell_type": "code",
      "metadata": {
        "colab": {
          "base_uri": "https://localhost:8080/",
          "height": 142
        },
        "id": "iPQZ6MGPY_QF",
        "outputId": "d686fb5a-3861-46f5-be18-c172b0f14d98"
      },
      "source": [
        "df5 = pd.DataFrame({'A':['a', 'b','a'], 'B': ['b', 'a', 'c'], 'C': [1,2,3]})\n",
        "\n",
        "pd.get_dummies(df5)\n",
        "#for doing one-hot encoding"
      ],
      "execution_count": 21,
      "outputs": [
        {
          "output_type": "execute_result",
          "data": {
            "text/html": [
              "<div>\n",
              "<style scoped>\n",
              "    .dataframe tbody tr th:only-of-type {\n",
              "        vertical-align: middle;\n",
              "    }\n",
              "\n",
              "    .dataframe tbody tr th {\n",
              "        vertical-align: top;\n",
              "    }\n",
              "\n",
              "    .dataframe thead th {\n",
              "        text-align: right;\n",
              "    }\n",
              "</style>\n",
              "<table border=\"1\" class=\"dataframe\">\n",
              "  <thead>\n",
              "    <tr style=\"text-align: right;\">\n",
              "      <th></th>\n",
              "      <th>C</th>\n",
              "      <th>A_a</th>\n",
              "      <th>A_b</th>\n",
              "      <th>B_a</th>\n",
              "      <th>B_b</th>\n",
              "      <th>B_c</th>\n",
              "    </tr>\n",
              "  </thead>\n",
              "  <tbody>\n",
              "    <tr>\n",
              "      <th>0</th>\n",
              "      <td>1</td>\n",
              "      <td>1</td>\n",
              "      <td>0</td>\n",
              "      <td>0</td>\n",
              "      <td>1</td>\n",
              "      <td>0</td>\n",
              "    </tr>\n",
              "    <tr>\n",
              "      <th>1</th>\n",
              "      <td>2</td>\n",
              "      <td>0</td>\n",
              "      <td>1</td>\n",
              "      <td>1</td>\n",
              "      <td>0</td>\n",
              "      <td>0</td>\n",
              "    </tr>\n",
              "    <tr>\n",
              "      <th>2</th>\n",
              "      <td>3</td>\n",
              "      <td>1</td>\n",
              "      <td>0</td>\n",
              "      <td>0</td>\n",
              "      <td>0</td>\n",
              "      <td>1</td>\n",
              "    </tr>\n",
              "  </tbody>\n",
              "</table>\n",
              "</div>"
            ],
            "text/plain": [
              "   C  A_a  A_b  B_a  B_b  B_c\n",
              "0  1    1    0    0    1    0\n",
              "1  2    0    1    1    0    0\n",
              "2  3    1    0    0    0    1"
            ]
          },
          "metadata": {
            "tags": []
          },
          "execution_count": 21
        }
      ]
    },
    {
      "cell_type": "code",
      "metadata": {
        "colab": {
          "base_uri": "https://localhost:8080/"
        },
        "id": "Qose0elOaGKW",
        "outputId": "a5697389-3ffc-4b58-f9ba-6399f863aba3"
      },
      "source": [
        "df3.loc[0]"
      ],
      "execution_count": 27,
      "outputs": [
        {
          "output_type": "execute_result",
          "data": {
            "text/plain": [
              "a    1\n",
              "b    2\n",
              "c    3\n",
              "Name: 0, dtype: int64"
            ]
          },
          "metadata": {
            "tags": []
          },
          "execution_count": 27
        }
      ]
    },
    {
      "cell_type": "code",
      "metadata": {
        "colab": {
          "base_uri": "https://localhost:8080/"
        },
        "id": "KIJpH8IFc5pS",
        "outputId": "649ae707-dcf8-47e1-aaef-83727e75836b"
      },
      "source": [
        "df3.loc[:, 'c'] = 1000\n",
        "df3.loc[:, 'c']\n",
        "#loc can assign numbers to the array"
      ],
      "execution_count": 31,
      "outputs": [
        {
          "output_type": "execute_result",
          "data": {
            "text/plain": [
              "0    1000\n",
              "1    1000\n",
              "2    1000\n",
              "Name: c, dtype: int64"
            ]
          },
          "metadata": {
            "tags": []
          },
          "execution_count": 31
        }
      ]
    },
    {
      "cell_type": "code",
      "metadata": {
        "id": "wiXLlSOTdJZn"
      },
      "source": [
        "#df.at can not assign change to the array"
      ],
      "execution_count": 32,
      "outputs": []
    },
    {
      "cell_type": "code",
      "metadata": {
        "colab": {
          "base_uri": "https://localhost:8080/",
          "height": 142
        },
        "id": "hk9roaLmdkc1",
        "outputId": "7cc92bea-040d-498d-a950-9b22f40db1fa"
      },
      "source": [
        "df = pd.DataFrame({'a': ['falcon', 'falcon','parrot', 'parrot'],\n",
        "                   'max speed': [380,370, 24,26]})\n",
        "\n",
        "df.groupby(['a']).mean()"
      ],
      "execution_count": 33,
      "outputs": [
        {
          "output_type": "execute_result",
          "data": {
            "text/html": [
              "<div>\n",
              "<style scoped>\n",
              "    .dataframe tbody tr th:only-of-type {\n",
              "        vertical-align: middle;\n",
              "    }\n",
              "\n",
              "    .dataframe tbody tr th {\n",
              "        vertical-align: top;\n",
              "    }\n",
              "\n",
              "    .dataframe thead th {\n",
              "        text-align: right;\n",
              "    }\n",
              "</style>\n",
              "<table border=\"1\" class=\"dataframe\">\n",
              "  <thead>\n",
              "    <tr style=\"text-align: right;\">\n",
              "      <th></th>\n",
              "      <th>max speed</th>\n",
              "    </tr>\n",
              "    <tr>\n",
              "      <th>a</th>\n",
              "      <th></th>\n",
              "    </tr>\n",
              "  </thead>\n",
              "  <tbody>\n",
              "    <tr>\n",
              "      <th>falcon</th>\n",
              "      <td>375</td>\n",
              "    </tr>\n",
              "    <tr>\n",
              "      <th>parrot</th>\n",
              "      <td>25</td>\n",
              "    </tr>\n",
              "  </tbody>\n",
              "</table>\n",
              "</div>"
            ],
            "text/plain": [
              "        max speed\n",
              "a                \n",
              "falcon        375\n",
              "parrot         25"
            ]
          },
          "metadata": {
            "tags": []
          },
          "execution_count": 33
        }
      ]
    },
    {
      "cell_type": "code",
      "metadata": {
        "colab": {
          "base_uri": "https://localhost:8080/"
        },
        "id": "tDWfXwMxeK9e",
        "outputId": "9655ba5e-4e6b-4cf6-b566-215557099805"
      },
      "source": [
        "#sampling\n",
        "df6 = pd.DataFrame({'num_legs': [2,4,6,8],\n",
        "                    'num_wings': [2,0,0,0],\n",
        "                    'num_specimen_seen': [10,2,1,8]},\n",
        "                   index= ['falcon', 'dog', 'spider', 'fish'])\n",
        "print(df6, '\\n---')\n",
        "print(df.sample(frac=1, replace = True, random_state = 1))"
      ],
      "execution_count": 44,
      "outputs": [
        {
          "output_type": "stream",
          "text": [
            "        num_legs  num_wings  num_specimen_seen\n",
            "falcon         2          2                 10\n",
            "dog            4          0                  2\n",
            "spider         6          0                  1\n",
            "fish           8          0                  8 \n",
            "---\n",
            "        a  max speed\n",
            "1  falcon        370\n",
            "3  parrot         26\n",
            "0  falcon        380\n",
            "0  falcon        380\n"
          ],
          "name": "stdout"
        }
      ]
    },
    {
      "cell_type": "code",
      "metadata": {
        "colab": {
          "base_uri": "https://localhost:8080/",
          "height": 173
        },
        "id": "567z_q4BfZ7F",
        "outputId": "56dc7f19-5f9c-46ef-bc8a-4ef7fb08e0cc"
      },
      "source": [
        "df6.isin([0])\n",
        "#finding df6 have what value such as 0"
      ],
      "execution_count": 45,
      "outputs": [
        {
          "output_type": "execute_result",
          "data": {
            "text/html": [
              "<div>\n",
              "<style scoped>\n",
              "    .dataframe tbody tr th:only-of-type {\n",
              "        vertical-align: middle;\n",
              "    }\n",
              "\n",
              "    .dataframe tbody tr th {\n",
              "        vertical-align: top;\n",
              "    }\n",
              "\n",
              "    .dataframe thead th {\n",
              "        text-align: right;\n",
              "    }\n",
              "</style>\n",
              "<table border=\"1\" class=\"dataframe\">\n",
              "  <thead>\n",
              "    <tr style=\"text-align: right;\">\n",
              "      <th></th>\n",
              "      <th>num_legs</th>\n",
              "      <th>num_wings</th>\n",
              "      <th>num_specimen_seen</th>\n",
              "    </tr>\n",
              "  </thead>\n",
              "  <tbody>\n",
              "    <tr>\n",
              "      <th>falcon</th>\n",
              "      <td>False</td>\n",
              "      <td>False</td>\n",
              "      <td>False</td>\n",
              "    </tr>\n",
              "    <tr>\n",
              "      <th>dog</th>\n",
              "      <td>False</td>\n",
              "      <td>True</td>\n",
              "      <td>False</td>\n",
              "    </tr>\n",
              "    <tr>\n",
              "      <th>spider</th>\n",
              "      <td>False</td>\n",
              "      <td>True</td>\n",
              "      <td>False</td>\n",
              "    </tr>\n",
              "    <tr>\n",
              "      <th>fish</th>\n",
              "      <td>False</td>\n",
              "      <td>True</td>\n",
              "      <td>False</td>\n",
              "    </tr>\n",
              "  </tbody>\n",
              "</table>\n",
              "</div>"
            ],
            "text/plain": [
              "        num_legs  num_wings  num_specimen_seen\n",
              "falcon     False      False              False\n",
              "dog        False       True              False\n",
              "spider     False       True              False\n",
              "fish       False       True              False"
            ]
          },
          "metadata": {
            "tags": []
          },
          "execution_count": 45
        }
      ]
    },
    {
      "cell_type": "code",
      "metadata": {
        "colab": {
          "base_uri": "https://localhost:8080/",
          "height": 173
        },
        "id": "lsXLNOqeg9kD",
        "outputId": "17a83f23-893d-44b1-9df5-a7c2e053917c"
      },
      "source": [
        "df6.sort_values(by= ['num_legs'], ascending=True)"
      ],
      "execution_count": 47,
      "outputs": [
        {
          "output_type": "execute_result",
          "data": {
            "text/html": [
              "<div>\n",
              "<style scoped>\n",
              "    .dataframe tbody tr th:only-of-type {\n",
              "        vertical-align: middle;\n",
              "    }\n",
              "\n",
              "    .dataframe tbody tr th {\n",
              "        vertical-align: top;\n",
              "    }\n",
              "\n",
              "    .dataframe thead th {\n",
              "        text-align: right;\n",
              "    }\n",
              "</style>\n",
              "<table border=\"1\" class=\"dataframe\">\n",
              "  <thead>\n",
              "    <tr style=\"text-align: right;\">\n",
              "      <th></th>\n",
              "      <th>num_legs</th>\n",
              "      <th>num_wings</th>\n",
              "      <th>num_specimen_seen</th>\n",
              "    </tr>\n",
              "  </thead>\n",
              "  <tbody>\n",
              "    <tr>\n",
              "      <th>falcon</th>\n",
              "      <td>2</td>\n",
              "      <td>2</td>\n",
              "      <td>10</td>\n",
              "    </tr>\n",
              "    <tr>\n",
              "      <th>dog</th>\n",
              "      <td>4</td>\n",
              "      <td>0</td>\n",
              "      <td>2</td>\n",
              "    </tr>\n",
              "    <tr>\n",
              "      <th>spider</th>\n",
              "      <td>6</td>\n",
              "      <td>0</td>\n",
              "      <td>1</td>\n",
              "    </tr>\n",
              "    <tr>\n",
              "      <th>fish</th>\n",
              "      <td>8</td>\n",
              "      <td>0</td>\n",
              "      <td>8</td>\n",
              "    </tr>\n",
              "  </tbody>\n",
              "</table>\n",
              "</div>"
            ],
            "text/plain": [
              "        num_legs  num_wings  num_specimen_seen\n",
              "falcon         2          2                 10\n",
              "dog            4          0                  2\n",
              "spider         6          0                  1\n",
              "fish           8          0                  8"
            ]
          },
          "metadata": {
            "tags": []
          },
          "execution_count": 47
        }
      ]
    },
    {
      "cell_type": "code",
      "metadata": {
        "colab": {
          "base_uri": "https://localhost:8080/",
          "height": 173
        },
        "id": "r37mohZ_hTc7",
        "outputId": "0023bcd2-71a6-49ca-c88e-c0c791c0851b"
      },
      "source": [
        "df6+1000"
      ],
      "execution_count": 48,
      "outputs": [
        {
          "output_type": "execute_result",
          "data": {
            "text/html": [
              "<div>\n",
              "<style scoped>\n",
              "    .dataframe tbody tr th:only-of-type {\n",
              "        vertical-align: middle;\n",
              "    }\n",
              "\n",
              "    .dataframe tbody tr th {\n",
              "        vertical-align: top;\n",
              "    }\n",
              "\n",
              "    .dataframe thead th {\n",
              "        text-align: right;\n",
              "    }\n",
              "</style>\n",
              "<table border=\"1\" class=\"dataframe\">\n",
              "  <thead>\n",
              "    <tr style=\"text-align: right;\">\n",
              "      <th></th>\n",
              "      <th>num_legs</th>\n",
              "      <th>num_wings</th>\n",
              "      <th>num_specimen_seen</th>\n",
              "    </tr>\n",
              "  </thead>\n",
              "  <tbody>\n",
              "    <tr>\n",
              "      <th>falcon</th>\n",
              "      <td>1002</td>\n",
              "      <td>1002</td>\n",
              "      <td>1010</td>\n",
              "    </tr>\n",
              "    <tr>\n",
              "      <th>dog</th>\n",
              "      <td>1004</td>\n",
              "      <td>1000</td>\n",
              "      <td>1002</td>\n",
              "    </tr>\n",
              "    <tr>\n",
              "      <th>spider</th>\n",
              "      <td>1006</td>\n",
              "      <td>1000</td>\n",
              "      <td>1001</td>\n",
              "    </tr>\n",
              "    <tr>\n",
              "      <th>fish</th>\n",
              "      <td>1008</td>\n",
              "      <td>1000</td>\n",
              "      <td>1008</td>\n",
              "    </tr>\n",
              "  </tbody>\n",
              "</table>\n",
              "</div>"
            ],
            "text/plain": [
              "        num_legs  num_wings  num_specimen_seen\n",
              "falcon      1002       1002               1010\n",
              "dog         1004       1000               1002\n",
              "spider      1006       1000               1001\n",
              "fish        1008       1000               1008"
            ]
          },
          "metadata": {
            "tags": []
          },
          "execution_count": 48
        }
      ]
    },
    {
      "cell_type": "code",
      "metadata": {
        "colab": {
          "base_uri": "https://localhost:8080/"
        },
        "id": "FUURhBICluZh",
        "outputId": "c0e94e67-d60f-4ffa-9cd4-0771df5695a2"
      },
      "source": [
        "df6.info"
      ],
      "execution_count": 49,
      "outputs": [
        {
          "output_type": "execute_result",
          "data": {
            "text/plain": [
              "<bound method DataFrame.info of         num_legs  num_wings  num_specimen_seen\n",
              "falcon         2          2                 10\n",
              "dog            4          0                  2\n",
              "spider         6          0                  1\n",
              "fish           8          0                  8>"
            ]
          },
          "metadata": {
            "tags": []
          },
          "execution_count": 49
        }
      ]
    },
    {
      "cell_type": "code",
      "metadata": {
        "id": "_khhREeHlxtH"
      },
      "source": [
        "from sklearn.preprocessing import MinMaxScaler\n",
        "scaler = MinMaxScaler()\n"
      ],
      "execution_count": 51,
      "outputs": []
    },
    {
      "cell_type": "code",
      "metadata": {
        "id": "M5r5OkX0oqCX"
      },
      "source": [
        "#for normslizer, the norm has two options: l1: manhattan distance, l2: 歐幾里德distance"
      ],
      "execution_count": 52,
      "outputs": []
    },
    {
      "cell_type": "code",
      "metadata": {
        "colab": {
          "base_uri": "https://localhost:8080/"
        },
        "id": "C7EHPTHTvm2u",
        "outputId": "a0e75b00-3e55-4a3a-9a94-82b6c4b2f387"
      },
      "source": [
        "df = pd.DataFrame({'month':[1,4,7,10],\n",
        "                   'year':[2012,2014,2013,2014],\n",
        "                   'sale': [55,40,84,31]})\n",
        "df['year'].mode()"
      ],
      "execution_count": 56,
      "outputs": [
        {
          "output_type": "execute_result",
          "data": {
            "text/plain": [
              "0    2014\n",
              "dtype: int64"
            ]
          },
          "metadata": {
            "tags": []
          },
          "execution_count": 56
        }
      ]
    },
    {
      "cell_type": "code",
      "metadata": {
        "colab": {
          "base_uri": "https://localhost:8080/"
        },
        "id": "yv5ZJkXRv6-p",
        "outputId": "455d03bb-c5f4-4144-874d-058a3ca8bde0"
      },
      "source": [
        "df.loc[:,'year'].max()"
      ],
      "execution_count": 57,
      "outputs": [
        {
          "output_type": "execute_result",
          "data": {
            "text/plain": [
              "2014"
            ]
          },
          "metadata": {
            "tags": []
          },
          "execution_count": 57
        }
      ]
    },
    {
      "cell_type": "code",
      "metadata": {
        "colab": {
          "base_uri": "https://localhost:8080/"
        },
        "id": "vvFgQlH0wX_L",
        "outputId": "0f22bbb5-aa4e-4984-e44a-78654aa00e65"
      },
      "source": [
        "print(df.std())\n",
        "print('\\n---')\n",
        "print(df.skew(), '\\n---')\n",
        "print(df.corr(method='spearman'))\n"
      ],
      "execution_count": 73,
      "outputs": [
        {
          "output_type": "stream",
          "text": [
            "month     3.872983\n",
            "year      0.957427\n",
            "sale     23.216374\n",
            "dtype: float64\n",
            "\n",
            "---\n",
            "month    0.000000\n",
            "year    -0.854563\n",
            "sale     1.032475\n",
            "dtype: float64 \n",
            "---\n",
            "          month      year      sale\n",
            "month  1.000000  0.632456 -0.400000\n",
            "year   0.632456  1.000000 -0.737865\n",
            "sale  -0.400000 -0.737865  1.000000\n"
          ],
          "name": "stdout"
        }
      ]
    },
    {
      "cell_type": "code",
      "metadata": {
        "colab": {
          "base_uri": "https://localhost:8080/"
        },
        "id": "-cM5-XlYyQ3l",
        "outputId": "807ea017-9dbd-41ed-88fe-4e786f20b2cf"
      },
      "source": [
        "print(df.corr(method='pearson'),'\\n---')\n",
        "print(df.corr(method='kendall'))\n"
      ],
      "execution_count": 72,
      "outputs": [
        {
          "output_type": "stream",
          "text": [
            "        month      year      sale\n",
            "month  1.0000  0.674200 -0.155700\n",
            "year   0.6742  1.000000 -0.547358\n",
            "sale  -0.1557 -0.547358  1.000000 \n",
            "---\n",
            "          month      year      sale\n",
            "month  1.000000  0.547723 -0.333333\n",
            "year   0.547723  1.000000 -0.547723\n",
            "sale  -0.333333 -0.547723  1.000000\n"
          ],
          "name": "stdout"
        }
      ]
    },
    {
      "cell_type": "code",
      "metadata": {
        "colab": {
          "base_uri": "https://localhost:8080/",
          "height": 265
        },
        "id": "wiq05MbcwiRB",
        "outputId": "0e3fa4ae-7b8d-49ce-9fe6-c1018542dd64"
      },
      "source": [
        "xpoints = np.array([0,6])\n",
        "ypoints = np.array([0,250])\n",
        "\n",
        "plt.plot(xpoints, ypoints)\n",
        "plt.show()"
      ],
      "execution_count": 71,
      "outputs": [
        {
          "output_type": "display_data",
          "data": {
            "image/png": "[encoded data removed]",
            "text/plain": [
              "<Figure size 432x288 with 1 Axes>"
            ]
          },
          "metadata": {
            "tags": [],
            "needs_background": "light"
          }
        }
      ]
    },
    {
      "cell_type": "code",
      "metadata": {
        "colab": {
          "base_uri": "https://localhost:8080/",
          "height": 265
        },
        "id": "NTnWlNX4yNri",
        "outputId": "e506bb7c-3dd2-47cd-aa3b-687ee4758422"
      },
      "source": [
        "xpoints = np.array([0,6])\n",
        "ypoints = np.array([0,250])\n",
        "\n",
        "plt.plot(xpoints, ypoints, 'o')\n",
        "plt.show()"
      ],
      "execution_count": 74,
      "outputs": [
        {
          "output_type": "display_data",
          "data": {
            "image/png": "[encoded data removed]",
            "text/plain": [
              "<Figure size 432x288 with 1 Axes>"
            ]
          },
          "metadata": {
            "tags": [],
            "needs_background": "light"
          }
        }
      ]
    },
    {
      "cell_type": "code",
      "metadata": {
        "colab": {
          "base_uri": "https://localhost:8080/",
          "height": 265
        },
        "id": "9A3kAuqnzMo9",
        "outputId": "3682bdd7-6229-40a8-b9d5-38241ae216ff"
      },
      "source": [
        "ypoints = [3,9,10,92,77]\n",
        "\n",
        "plt.plot(ypoints, 'o')\n",
        "plt.show()"
      ],
      "execution_count": 75,
      "outputs": [
        {
          "output_type": "display_data",
          "data": {
            "image/png": "[encoded data removed]",
            "text/plain": [
              "<Figure size 432x288 with 1 Axes>"
            ]
          },
          "metadata": {
            "tags": [],
            "needs_background": "light"
          }
        }
      ]
    },
    {
      "cell_type": "code",
      "metadata": {
        "colab": {
          "base_uri": "https://localhost:8080/",
          "height": 265
        },
        "id": "9JPx4tR-zghD",
        "outputId": "79ec2b12-103b-4e4b-ad89-923da90bd6e1"
      },
      "source": [
        "np.random.seed(1234)\n",
        "df= pd.DataFrame(np.random.randn(10,4),\n",
        "                 columns=['Col1', 'Col2', 'Col3', 'Col4'])\n",
        "\n",
        "bocplot = df.boxplot(column= ['Col1', 'Col2', 'Col3'])"
      ],
      "execution_count": 80,
      "outputs": [
        {
          "output_type": "display_data",
          "data": {
            "image/png": "[encoded data removed]",
            "text/plain": [
              "<Figure size 432x288 with 1 Axes>"
            ]
          },
          "metadata": {
            "tags": [],
            "needs_background": "light"
          }
        }
      ]
    },
    {
      "cell_type": "code",
      "metadata": {
        "colab": {
          "base_uri": "https://localhost:8080/",
          "height": 265
        },
        "id": "U0RK-SXaz7JK",
        "outputId": "c57d2903-1a56-4b05-8e82-3d41377de525"
      },
      "source": [
        "df = pd.DataFrame(\n",
        "    np.random.randint(1,7,60000),\n",
        "    columns = ['one'])\n",
        "\n",
        "df['two'] = df['one'] + np.random.randint(1,7,60000)\n",
        "ax = df.plot.hist(bins=12, alpha=0.5)"
      ],
      "execution_count": 84,
      "outputs": [
        {
          "output_type": "display_data",
          "data": {
            "image/png": "[encoded data removed]",
            "text/plain": [
              "<Figure size 432x288 with 1 Axes>"
            ]
          },
          "metadata": {
            "tags": [],
            "needs_background": "light"
          }
        }
      ]
    },
    {
      "cell_type": "code",
      "metadata": {
        "id": "Ltt4VZp31v3B"
      },
      "source": [
        ""
      ],
      "execution_count": null,
      "outputs": []
    }
  ]
}